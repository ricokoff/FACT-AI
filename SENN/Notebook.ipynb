{
 "cells": [
  {
   "cell_type": "markdown",
   "metadata": {},
   "source": [
    "# Towards Robust Interpretability with Self-Explaining Neural Networks"
   ]
  },
  {
   "cell_type": "markdown",
   "metadata": {},
   "source": [
    "Authors: *Rico Mossinkoff, Yke Rusticus, Roberto Schiavone, Ewoud Vermeij*"
   ]
  },
  {
   "cell_type": "code",
   "execution_count": 1,
   "metadata": {
    "pycharm": {
     "name": "#%%\n"
    }
   },
   "outputs": [],
   "source": [
    "import warnings\n",
    "warnings.filterwarnings(\"ignore\")\n",
    "\n",
    "from api import mnist, compas\n",
    "from api.load import load_compas, load_mnist, RegLambda, HType, NConcepts\n",
    "from api.utils import MNIST_TEST_SET"
   ]
  },
  {
   "cell_type": "markdown",
   "metadata": {},
   "source": [
    "## MNIST\n",
    "For the MNIST dataset, it is possible to load various models specifying the following parameters to the `load_mnist` function:\n",
    "- `h_type=HType.INPUT` and `reg_lambda`\n",
    "- `h_type=HType.CNN`, `reg_lambda` and `n_concepts`\n",
    "\n",
    "If `load_mnist` is called with `h_type=HType.INPUT` and `n_concepts`, `n_concepts` is safely ignored.\n",
    "\n",
    "The default parameters for MNIST are `h_type=HType.INPUT`, `n_concepts=NConcepts.FIVE` and `reg_lambda=RegLambda.E4`\n",
    "\n",
    "The possible values for each parameter are shown below."
   ]
  },
  {
   "cell_type": "code",
   "execution_count": null,
   "metadata": {},
   "outputs": [],
   "source": [
    "print('h_type possible values:')\n",
    "for x in HType:\n",
    "    print(x)"
   ]
  },
  {
   "cell_type": "code",
   "execution_count": null,
   "metadata": {},
   "outputs": [],
   "source": [
    "print('reg_lambda possible values:')\n",
    "for x in RegLambda:\n",
    "    value = ('{:0.0e}' if x.value != 0 and x.value != 1 else '{}').format(x.value)\n",
    "    print(str(x) + ': ' + value)"
   ]
  },
  {
   "cell_type": "code",
   "execution_count": null,
   "metadata": {},
   "outputs": [],
   "source": [
    "print('n_concepts possible values:')\n",
    "for x in NConcepts:\n",
    "    print(str(x) + ': ' + str(x.value))"
   ]
  },
  {
   "cell_type": "code",
   "execution_count": null,
   "metadata": {
    "pycharm": {
     "name": "#%%\n"
    },
    "scrolled": true
   },
   "outputs": [],
   "source": [
    "model = load_mnist(n_concepts=NConcepts.TWENTY)\n",
    "# equivalent\n",
    "# model = load_mnist(reg_lambda=RegLambda.E4, h_type=HType.CNN, n_concepts=NConcepts.FIVE)"
   ]
  },
  {
   "cell_type": "code",
   "execution_count": null,
   "metadata": {},
   "outputs": [],
   "source": [
    "n = 3\n",
    "x = mnist.get_digit_image(n)"
   ]
  },
  {
   "cell_type": "code",
   "execution_count": null,
   "metadata": {},
   "outputs": [],
   "source": [
    "mnist.plot_digit_noise_activation(model, n, 5)"
   ]
  },
  {
   "cell_type": "code",
   "execution_count": null,
   "metadata": {},
   "outputs": [],
   "source": [
    "mnist.plot_digit_stability_concept_grid(model, 5)"
   ]
  },
  {
   "cell_type": "code",
   "execution_count": null,
   "metadata": {},
   "outputs": [],
   "source": [
    "model = load_compas(RegLambda.ONE)"
   ]
  },
  {
   "cell_type": "code",
   "execution_count": null,
   "metadata": {},
   "outputs": [],
   "source": [
    "x = {\n",
    "    'Two_yr_Recidivism': 1., \n",
    "     'Number_of_Priors': 1.,\n",
    "     'Age_Above_FourtyFive': 1.,\n",
    "     'Age_Below_TwentyFive':1.,\n",
    "     'African_American': 1.,\n",
    "     'Asian': 1., \n",
    "     'Hispanic': 1.,\n",
    "     'Native_American': 1.,\n",
    "     'Other':1.,\n",
    "     'Female': 0.,\n",
    "     'Misdemeanor': 1.\n",
    "    }"
   ]
  },
  {
   "cell_type": "code",
   "execution_count": null,
   "metadata": {},
   "outputs": [],
   "source": [
    "compas.plot_lipschitz_feature(model, x)"
   ]
  },
  {
   "cell_type": "markdown",
   "metadata": {},
   "source": [
    "# Model evaluations\n"
   ]
  },
  {
   "cell_type": "code",
   "execution_count": 2,
   "metadata": {},
   "outputs": [
    {
     "name": "stderr",
     "output_type": "stream",
     "text": [
      "  1%|▏         | 82/6172 [00:00<00:07, 812.16it/s]"
     ]
    },
    {
     "name": "stdout",
     "output_type": "stream",
     "text": [
      "/home/evermeij/Documents/Github/FACT/SENN/data/fairml/doc/example_notebooks/propublica_data_for_fairml.csv\n"
     ]
    },
    {
     "name": "stderr",
     "output_type": "stream",
     "text": [
      "100%|██████████| 6172/6172 [00:03<00:00, 1659.75it/s]\n"
     ]
    }
   ],
   "source": [
    "_, _, _, _, _, test , _, _ = compas.load_compas_data(shuffle=False, batch_size=64)"
   ]
  },
  {
   "cell_type": "code",
   "execution_count": 3,
   "metadata": {
    "scrolled": true
   },
   "outputs": [
    {
     "name": "stdout",
     "output_type": "stream",
     "text": [
      "<--------COMPAS MODELS-------->\n",
      "COMPAS model - Lambda: ZERO,  accuracy: 0.8153\n",
      "COMPAS model - Lambda: E4,    accuracy: 0.8060\n",
      "COMPAS model - Lambda: E3,    accuracy: 0.8134\n",
      "COMPAS model - Lambda: E2,    accuracy: 0.8041\n",
      "COMPAS model - Lambda: E1,    accuracy: 0.7910\n",
      "COMPAS model - Lambda: ONE,   accuracy: 0.6754\n",
      "\n",
      "<--------MNIST MODELS--------->\n",
      "MNIST model - h(x): CNN,     nconcepts: FIVE,     Lambda: ZERO,   accuracy: 0.98850\n",
      "MNIST model - h(x): CNN,     nconcepts: FIVE,     Lambda: E4,     accuracy: 0.98750\n",
      "MNIST model - h(x): CNN,     nconcepts: FIVE,     Lambda: E3,     accuracy: 0.98650\n",
      "MNIST model - h(x): CNN,     nconcepts: FIVE,     Lambda: E2,     accuracy: 0.98250\n",
      "MNIST model - h(x): CNN,     nconcepts: FIVE,     Lambda: E1,     accuracy: 0.96580\n",
      "MNIST model - h(x): CNN,     nconcepts: FIVE,     Lambda: ONE,    accuracy: 0.15570\n",
      "MNIST model - h(x): CNN,     nconcepts: TWENTY,   Lambda: ZERO,   accuracy: 0.99100\n",
      "MNIST model - h(x): CNN,     nconcepts: TWENTY,   Lambda: E4,     accuracy: 0.99070\n",
      "MNIST model - h(x): CNN,     nconcepts: TWENTY,   Lambda: E3,     accuracy: 0.98910\n",
      "MNIST model - h(x): CNN,     nconcepts: TWENTY,   Lambda: E2,     accuracy: 0.98400\n",
      "MNIST model - h(x): CNN,     nconcepts: TWENTY,   Lambda: E1,     accuracy: 0.97060\n",
      "MNIST model - h(x): CNN,     nconcepts: TWENTY,   Lambda: ONE,    accuracy: 0.13820\n",
      "MNIST model - h(x): INPUT,   nconcepts: FIVE,     Lambda: ZERO,   accuracy: 0.99000\n",
      "MNIST model - h(x): INPUT,   nconcepts: FIVE,     Lambda: E4,     accuracy: 0.98880\n",
      "MNIST model - h(x): INPUT,   nconcepts: FIVE,     Lambda: E3,     accuracy: 0.99090\n",
      "MNIST model - h(x): INPUT,   nconcepts: FIVE,     Lambda: E2,     accuracy: 0.98290\n",
      "MNIST model - h(x): INPUT,   nconcepts: FIVE,     Lambda: E1,     accuracy: 0.85500\n",
      "MNIST model - h(x): INPUT,   nconcepts: FIVE,     Lambda: ONE,    accuracy: 0.38480\n",
      "MNIST model - h(x): INPUT,   nconcepts: TWENTY,   Lambda: ZERO,   accuracy: 0.99000\n",
      "MNIST model - h(x): INPUT,   nconcepts: TWENTY,   Lambda: E4,     accuracy: 0.98880\n",
      "MNIST model - h(x): INPUT,   nconcepts: TWENTY,   Lambda: E3,     accuracy: 0.99090\n",
      "MNIST model - h(x): INPUT,   nconcepts: TWENTY,   Lambda: E2,     accuracy: 0.98290\n",
      "MNIST model - h(x): INPUT,   nconcepts: TWENTY,   Lambda: E1,     accuracy: 0.85500\n",
      "MNIST model - h(x): INPUT,   nconcepts: TWENTY,   Lambda: ONE,    accuracy: 0.38480\n"
     ]
    }
   ],
   "source": [
    "print(\"<--------COMPAS MODELS-------->\")\n",
    "compass_acc = []\n",
    "for reg in RegLambda:\n",
    "    model = load_compas(reg, False)\n",
    "    acc = compas.evaluate(model, test, print_freq=0, return_acc=True)\n",
    "    compass_acc.append(acc)\n",
    "    strreg = (\"Lambda: \" + str(reg)[10:] + \",\").ljust(14, ' ')\n",
    "    print(\"COMPAS model - %s accuracy: %0.4f\" %(strreg, acc))\n",
    "\n",
    "print(\"\\n<--------MNIST MODELS--------->\")\n",
    "mnist_acc = []\n",
    "for ht in HType:\n",
    "    for concept in NConcepts:\n",
    "        for reg in RegLambda:\n",
    "            model = load_mnist(reg, ht, concept, False)\n",
    "            acc = mnist.evaluate(model, MNIST_TEST_SET, print_freq=0, return_acc=True)\n",
    "            mnist_acc.append(acc)            \n",
    "            strht = (\"h(x): \"+str(ht)[6:] + \",\").ljust(14, ' ')\n",
    "            strconcept = (\"nconcepts: \"+str(concept)[10:] + \",\").ljust(20, ' ')\n",
    "            strreg = (\"Lambda: \" + str(reg)[10:] + \",\").ljust(15, ' ')\n",
    "            print(\"MNIST model - %s %s %s accuracy: %0.5f\" %(strht, strconcept, strreg, acc))\n",
    "            "
   ]
  },
  {
   "cell_type": "markdown",
   "metadata": {},
   "source": [
    "# MNIST faithfullness test"
   ]
  },
  {
   "cell_type": "code",
   "execution_count": 6,
   "metadata": {},
   "outputs": [
    {
     "name": "stdout",
     "output_type": "stream",
     "text": [
      "MNIST model - h(x): CNN,     nconcepts: FIVE,     Lambda: ZERO,   accuracy: 0.98850\n",
      "Leaving concept 0 out, giving an DEcrease 0.0003. accuracy result: 0.9882\n",
      "Leaving concept 1 out, giving an INcrease 0.0006. accuracy result: 0.9891\n",
      "Leaving concept 2 out, giving an DEcrease 0.0002. accuracy result: 0.9883\n",
      "Leaving concept 3 out, giving an DEcrease 0.0001. accuracy result: 0.9884\n",
      "Leaving concept 4 out, giving an INcrease 0.0002. accuracy result: 0.9887\n",
      "\n",
      "MNIST model - h(x): CNN,     nconcepts: FIVE,     Lambda: E4,     accuracy: 0.98750\n",
      "Leaving concept 0 out, giving an INcrease 0.0006. accuracy result: 0.9881\n",
      "Leaving concept 1 out, giving an INcrease 0.0004. accuracy result: 0.9879\n",
      "Leaving concept 2 out, giving an DEcrease 0.0000. accuracy result: 0.9875\n",
      "Leaving concept 3 out, giving an INcrease 0.0005. accuracy result: 0.9880\n",
      "Leaving concept 4 out, giving an INcrease 0.0003. accuracy result: 0.9878\n",
      "\n",
      "MNIST model - h(x): CNN,     nconcepts: FIVE,     Lambda: E3,     accuracy: 0.98650\n",
      "Leaving concept 0 out, giving an DEcrease 0.0006. accuracy result: 0.9859\n",
      "Leaving concept 1 out, giving an DEcrease 0.0006. accuracy result: 0.9859\n",
      "Leaving concept 2 out, giving an DEcrease 0.0002. accuracy result: 0.9863\n",
      "Leaving concept 3 out, giving an DEcrease 0.0000. accuracy result: 0.9865\n",
      "Leaving concept 4 out, giving an DEcrease 0.0006. accuracy result: 0.9859\n",
      "\n",
      "MNIST model - h(x): CNN,     nconcepts: FIVE,     Lambda: E2,     accuracy: 0.98250\n",
      "Leaving concept 0 out, giving an DEcrease 0.0008. accuracy result: 0.9817\n",
      "Leaving concept 1 out, giving an INcrease 0.0002. accuracy result: 0.9827\n",
      "Leaving concept 2 out, giving an DEcrease 0.0022. accuracy result: 0.9803\n",
      "Leaving concept 3 out, giving an DEcrease 0.0006. accuracy result: 0.9819\n",
      "Leaving concept 4 out, giving an DEcrease 0.0003. accuracy result: 0.9822\n",
      "\n",
      "MNIST model - h(x): CNN,     nconcepts: FIVE,     Lambda: E1,     accuracy: 0.96580\n",
      "Leaving concept 0 out, giving an DEcrease 0.0028. accuracy result: 0.9630\n",
      "Leaving concept 1 out, giving an INcrease 0.0015. accuracy result: 0.9673\n",
      "Leaving concept 2 out, giving an DEcrease 0.0051. accuracy result: 0.9607\n",
      "Leaving concept 3 out, giving an DEcrease 0.0009. accuracy result: 0.9649\n",
      "Leaving concept 4 out, giving an DEcrease 0.0215. accuracy result: 0.9443\n",
      "\n",
      "MNIST model - h(x): CNN,     nconcepts: FIVE,     Lambda: ONE,    accuracy: 0.15570\n",
      "Leaving concept 0 out, giving an DEcrease 0.0123. accuracy result: 0.1434\n",
      "Leaving concept 1 out, giving an DEcrease 0.0012. accuracy result: 0.1545\n",
      "Leaving concept 2 out, giving an DEcrease 0.0106. accuracy result: 0.1451\n",
      "Leaving concept 3 out, giving an DEcrease 0.0049. accuracy result: 0.1508\n",
      "Leaving concept 4 out, giving an DEcrease 0.0017. accuracy result: 0.1540\n",
      "\n",
      "MNIST model - h(x): CNN,     nconcepts: TWENTY,   Lambda: ZERO,   accuracy: 0.99100\n",
      "Leaving concept 0 out, giving an DEcrease 0.0003. accuracy result: 0.9907\n",
      "Leaving concept 1 out, giving an INcrease 0.0001. accuracy result: 0.9911\n",
      "Leaving concept 2 out, giving an DEcrease 0.0003. accuracy result: 0.9907\n",
      "Leaving concept 3 out, giving an DEcrease 0.0000. accuracy result: 0.9910\n",
      "Leaving concept 4 out, giving an DEcrease 0.0001. accuracy result: 0.9909\n",
      "Leaving concept 5 out, giving an INcrease 0.0005. accuracy result: 0.9915\n",
      "Leaving concept 6 out, giving an INcrease 0.0003. accuracy result: 0.9913\n",
      "Leaving concept 7 out, giving an DEcrease 0.0004. accuracy result: 0.9906\n",
      "Leaving concept 8 out, giving an INcrease 0.0001. accuracy result: 0.9911\n",
      "Leaving concept 9 out, giving an DEcrease 0.0003. accuracy result: 0.9907\n",
      "Leaving concept 10 out, giving an DEcrease 0.0000. accuracy result: 0.9910\n",
      "Leaving concept 11 out, giving an DEcrease 0.0004. accuracy result: 0.9906\n",
      "Leaving concept 12 out, giving an DEcrease 0.0002. accuracy result: 0.9908\n",
      "Leaving concept 13 out, giving an DEcrease 0.0007. accuracy result: 0.9903\n",
      "Leaving concept 14 out, giving an DEcrease 0.0001. accuracy result: 0.9909\n",
      "Leaving concept 15 out, giving an DEcrease 0.0003. accuracy result: 0.9907\n",
      "Leaving concept 16 out, giving an INcrease 0.0001. accuracy result: 0.9911\n",
      "Leaving concept 17 out, giving an DEcrease 0.0001. accuracy result: 0.9909\n",
      "Leaving concept 18 out, giving an DEcrease 0.0001. accuracy result: 0.9909\n",
      "Leaving concept 19 out, giving an DEcrease 0.0005. accuracy result: 0.9905\n",
      "\n",
      "MNIST model - h(x): CNN,     nconcepts: TWENTY,   Lambda: E4,     accuracy: 0.99070\n",
      "Leaving concept 0 out, giving an DEcrease 0.0001. accuracy result: 0.9906\n",
      "Leaving concept 1 out, giving an DEcrease 0.0002. accuracy result: 0.9905\n",
      "Leaving concept 2 out, giving an DEcrease 0.0005. accuracy result: 0.9902\n",
      "Leaving concept 3 out, giving an DEcrease 0.0001. accuracy result: 0.9906\n",
      "Leaving concept 4 out, giving an DEcrease 0.0003. accuracy result: 0.9904\n",
      "Leaving concept 5 out, giving an DEcrease 0.0005. accuracy result: 0.9902\n",
      "Leaving concept 6 out, giving an INcrease 0.0002. accuracy result: 0.9909\n",
      "Leaving concept 7 out, giving an DEcrease 0.0002. accuracy result: 0.9905\n",
      "Leaving concept 8 out, giving an DEcrease 0.0005. accuracy result: 0.9902\n",
      "Leaving concept 9 out, giving an DEcrease 0.0007. accuracy result: 0.9900\n",
      "Leaving concept 10 out, giving an DEcrease 0.0005. accuracy result: 0.9902\n",
      "Leaving concept 11 out, giving an DEcrease 0.0001. accuracy result: 0.9906\n",
      "Leaving concept 12 out, giving an DEcrease 0.0001. accuracy result: 0.9906\n",
      "Leaving concept 13 out, giving an DEcrease 0.0004. accuracy result: 0.9903\n",
      "Leaving concept 14 out, giving an DEcrease 0.0004. accuracy result: 0.9903\n",
      "Leaving concept 15 out, giving an DEcrease 0.0001. accuracy result: 0.9906\n",
      "Leaving concept 16 out, giving an DEcrease 0.0000. accuracy result: 0.9907\n",
      "Leaving concept 17 out, giving an DEcrease 0.0001. accuracy result: 0.9906\n",
      "Leaving concept 18 out, giving an DEcrease 0.0002. accuracy result: 0.9905\n",
      "Leaving concept 19 out, giving an INcrease 0.0001. accuracy result: 0.9908\n",
      "\n",
      "MNIST model - h(x): CNN,     nconcepts: TWENTY,   Lambda: E3,     accuracy: 0.98910\n",
      "Leaving concept 0 out, giving an DEcrease 0.0002. accuracy result: 0.9889\n",
      "Leaving concept 1 out, giving an DEcrease 0.0000. accuracy result: 0.9891\n",
      "Leaving concept 2 out, giving an DEcrease 0.0003. accuracy result: 0.9888\n",
      "Leaving concept 3 out, giving an DEcrease 0.0003. accuracy result: 0.9888\n",
      "Leaving concept 4 out, giving an DEcrease 0.0005. accuracy result: 0.9886\n",
      "Leaving concept 5 out, giving an INcrease 0.0001. accuracy result: 0.9892\n",
      "Leaving concept 6 out, giving an DEcrease 0.0002. accuracy result: 0.9889\n",
      "Leaving concept 7 out, giving an DEcrease 0.0001. accuracy result: 0.9890\n",
      "Leaving concept 8 out, giving an INcrease 0.0001. accuracy result: 0.9892\n",
      "Leaving concept 9 out, giving an DEcrease 0.0004. accuracy result: 0.9887\n",
      "Leaving concept 10 out, giving an INcrease 0.0001. accuracy result: 0.9892\n",
      "Leaving concept 11 out, giving an DEcrease 0.0007. accuracy result: 0.9884\n",
      "Leaving concept 12 out, giving an DEcrease 0.0001. accuracy result: 0.9890\n",
      "Leaving concept 13 out, giving an INcrease 0.0002. accuracy result: 0.9893\n",
      "Leaving concept 14 out, giving an DEcrease 0.0002. accuracy result: 0.9889\n",
      "Leaving concept 15 out, giving an INcrease 0.0003. accuracy result: 0.9894\n",
      "Leaving concept 16 out, giving an DEcrease 0.0002. accuracy result: 0.9889\n",
      "Leaving concept 17 out, giving an DEcrease 0.0001. accuracy result: 0.9890\n",
      "Leaving concept 18 out, giving an DEcrease 0.0000. accuracy result: 0.9891\n",
      "Leaving concept 19 out, giving an DEcrease 0.0000. accuracy result: 0.9891\n",
      "\n",
      "MNIST model - h(x): CNN,     nconcepts: TWENTY,   Lambda: E2,     accuracy: 0.98400\n",
      "Leaving concept 0 out, giving an DEcrease 0.0001. accuracy result: 0.9839\n",
      "Leaving concept 1 out, giving an INcrease 0.0003. accuracy result: 0.9843\n",
      "Leaving concept 2 out, giving an DEcrease 0.0001. accuracy result: 0.9839\n",
      "Leaving concept 3 out, giving an INcrease 0.0002. accuracy result: 0.9842\n",
      "Leaving concept 4 out, giving an INcrease 0.0005. accuracy result: 0.9845\n",
      "Leaving concept 5 out, giving an INcrease 0.0002. accuracy result: 0.9842\n",
      "Leaving concept 6 out, giving an INcrease 0.0003. accuracy result: 0.9843\n",
      "Leaving concept 7 out, giving an INcrease 0.0001. accuracy result: 0.9841\n",
      "Leaving concept 8 out, giving an INcrease 0.0001. accuracy result: 0.9841\n",
      "Leaving concept 9 out, giving an INcrease 0.0001. accuracy result: 0.9841\n",
      "Leaving concept 10 out, giving an INcrease 0.0003. accuracy result: 0.9843\n",
      "Leaving concept 11 out, giving an INcrease 0.0001. accuracy result: 0.9841\n",
      "Leaving concept 12 out, giving an DEcrease 0.0005. accuracy result: 0.9835\n",
      "Leaving concept 13 out, giving an INcrease 0.0006. accuracy result: 0.9846\n",
      "Leaving concept 14 out, giving an INcrease 0.0006. accuracy result: 0.9846\n",
      "Leaving concept 15 out, giving an INcrease 0.0011. accuracy result: 0.9851\n",
      "Leaving concept 16 out, giving an INcrease 0.0005. accuracy result: 0.9845\n",
      "Leaving concept 17 out, giving an DEcrease 0.0001. accuracy result: 0.9839\n",
      "Leaving concept 18 out, giving an INcrease 0.0005. accuracy result: 0.9845\n",
      "Leaving concept 19 out, giving an INcrease 0.0002. accuracy result: 0.9842\n",
      "\n",
      "MNIST model - h(x): CNN,     nconcepts: TWENTY,   Lambda: E1,     accuracy: 0.97060\n"
     ]
    },
    {
     "name": "stdout",
     "output_type": "stream",
     "text": [
      "Leaving concept 0 out, giving an DEcrease 0.0001. accuracy result: 0.9705\n",
      "Leaving concept 1 out, giving an DEcrease 0.0010. accuracy result: 0.9696\n",
      "Leaving concept 2 out, giving an INcrease 0.0002. accuracy result: 0.9708\n",
      "Leaving concept 3 out, giving an DEcrease 0.0007. accuracy result: 0.9699\n",
      "Leaving concept 4 out, giving an DEcrease 0.0003. accuracy result: 0.9703\n",
      "Leaving concept 5 out, giving an DEcrease 0.0014. accuracy result: 0.9692\n",
      "Leaving concept 6 out, giving an INcrease 0.0003. accuracy result: 0.9709\n",
      "Leaving concept 7 out, giving an DEcrease 0.0015. accuracy result: 0.9691\n",
      "Leaving concept 8 out, giving an DEcrease 0.0003. accuracy result: 0.9703\n",
      "Leaving concept 9 out, giving an DEcrease 0.0007. accuracy result: 0.9699\n",
      "Leaving concept 10 out, giving an INcrease 0.0008. accuracy result: 0.9714\n",
      "Leaving concept 11 out, giving an DEcrease 0.0005. accuracy result: 0.9701\n",
      "Leaving concept 12 out, giving an DEcrease 0.0001. accuracy result: 0.9705\n",
      "Leaving concept 13 out, giving an DEcrease 0.0001. accuracy result: 0.9705\n",
      "Leaving concept 14 out, giving an INcrease 0.0001. accuracy result: 0.9707\n",
      "Leaving concept 15 out, giving an DEcrease 0.0011. accuracy result: 0.9695\n",
      "Leaving concept 16 out, giving an DEcrease 0.0007. accuracy result: 0.9699\n",
      "Leaving concept 17 out, giving an DEcrease 0.0014. accuracy result: 0.9692\n",
      "Leaving concept 18 out, giving an INcrease 0.0004. accuracy result: 0.9710\n",
      "Leaving concept 19 out, giving an DEcrease 0.0002. accuracy result: 0.9704\n",
      "\n",
      "MNIST model - h(x): CNN,     nconcepts: TWENTY,   Lambda: ONE,    accuracy: 0.13820\n",
      "Leaving concept 0 out, giving an DEcrease 0.0057. accuracy result: 0.1325\n",
      "Leaving concept 1 out, giving an DEcrease 0.0007. accuracy result: 0.1375\n",
      "Leaving concept 2 out, giving an DEcrease 0.0028. accuracy result: 0.1354\n",
      "Leaving concept 3 out, giving an INcrease 0.0009. accuracy result: 0.1391\n",
      "Leaving concept 4 out, giving an DEcrease 0.0023. accuracy result: 0.1359\n",
      "Leaving concept 5 out, giving an DEcrease 0.0033. accuracy result: 0.1349\n",
      "Leaving concept 6 out, giving an DEcrease 0.0029. accuracy result: 0.1353\n",
      "Leaving concept 7 out, giving an DEcrease 0.0040. accuracy result: 0.1342\n",
      "Leaving concept 8 out, giving an DEcrease 0.0046. accuracy result: 0.1336\n",
      "Leaving concept 9 out, giving an DEcrease 0.0048. accuracy result: 0.1334\n",
      "Leaving concept 10 out, giving an DEcrease 0.0028. accuracy result: 0.1354\n",
      "Leaving concept 11 out, giving an DEcrease 0.0036. accuracy result: 0.1346\n",
      "Leaving concept 12 out, giving an INcrease 0.0005. accuracy result: 0.1387\n",
      "Leaving concept 13 out, giving an DEcrease 0.0038. accuracy result: 0.1344\n",
      "Leaving concept 14 out, giving an DEcrease 0.0462. accuracy result: 0.0920\n",
      "Leaving concept 15 out, giving an DEcrease 0.0025. accuracy result: 0.1357\n",
      "Leaving concept 16 out, giving an INcrease 0.0032. accuracy result: 0.1414\n",
      "Leaving concept 17 out, giving an DEcrease 0.0000. accuracy result: 0.1382\n",
      "Leaving concept 18 out, giving an DEcrease 0.0039. accuracy result: 0.1343\n",
      "Leaving concept 19 out, giving an DEcrease 0.0054. accuracy result: 0.1328\n",
      "\n",
      "MNIST model - h(x): INPUT,   nconcepts: FIVE,     Lambda: ZERO,   accuracy: 0.99000\n"
     ]
    },
    {
     "ename": "ValueError",
     "evalue": "too many values to unpack (expected 2)",
     "output_type": "error",
     "traceback": [
      "\u001b[0;31m---------------------------------------------------------------------------\u001b[0m",
      "\u001b[0;31mValueError\u001b[0m                                Traceback (most recent call last)",
      "\u001b[0;32m<ipython-input-6-be8b4fd2fa56>\u001b[0m in \u001b[0;36m<module>\u001b[0;34m\u001b[0m\n\u001b[1;32m      8\u001b[0m             \u001b[0mstrreg\u001b[0m \u001b[0;34m=\u001b[0m \u001b[0;34m(\u001b[0m\u001b[0;34m\"Lambda: \"\u001b[0m \u001b[0;34m+\u001b[0m \u001b[0mstr\u001b[0m\u001b[0;34m(\u001b[0m\u001b[0mreg\u001b[0m\u001b[0;34m)\u001b[0m\u001b[0;34m[\u001b[0m\u001b[0;36m10\u001b[0m\u001b[0;34m:\u001b[0m\u001b[0;34m]\u001b[0m \u001b[0;34m+\u001b[0m \u001b[0;34m\",\"\u001b[0m\u001b[0;34m)\u001b[0m\u001b[0;34m.\u001b[0m\u001b[0mljust\u001b[0m\u001b[0;34m(\u001b[0m\u001b[0;36m15\u001b[0m\u001b[0;34m,\u001b[0m \u001b[0;34m' '\u001b[0m\u001b[0;34m)\u001b[0m\u001b[0;34m\u001b[0m\u001b[0;34m\u001b[0m\u001b[0m\n\u001b[1;32m      9\u001b[0m             \u001b[0mprint\u001b[0m\u001b[0;34m(\u001b[0m\u001b[0;34m\"MNIST model - %s %s %s accuracy: %0.5f\"\u001b[0m \u001b[0;34m%\u001b[0m\u001b[0;34m(\u001b[0m\u001b[0mstrht\u001b[0m\u001b[0;34m,\u001b[0m \u001b[0mstrconcept\u001b[0m\u001b[0;34m,\u001b[0m \u001b[0mstrreg\u001b[0m\u001b[0;34m,\u001b[0m \u001b[0mmnist_acc\u001b[0m\u001b[0;34m[\u001b[0m\u001b[0mcount\u001b[0m\u001b[0;34m]\u001b[0m\u001b[0;34m)\u001b[0m\u001b[0;34m)\u001b[0m\u001b[0;34m\u001b[0m\u001b[0;34m\u001b[0m\u001b[0m\n\u001b[0;32m---> 10\u001b[0;31m             \u001b[0mfaith_acc\u001b[0m \u001b[0;34m=\u001b[0m \u001b[0mmnist\u001b[0m\u001b[0;34m.\u001b[0m\u001b[0mfaith_evaluate\u001b[0m\u001b[0;34m(\u001b[0m\u001b[0mmodel\u001b[0m\u001b[0;34m,\u001b[0m \u001b[0mconcept\u001b[0m\u001b[0;34m.\u001b[0m\u001b[0mvalue\u001b[0m\u001b[0;34m,\u001b[0m \u001b[0mMNIST_TEST_SET\u001b[0m\u001b[0;34m,\u001b[0m \u001b[0mprint_freq\u001b[0m\u001b[0;34m=\u001b[0m\u001b[0;36m0\u001b[0m\u001b[0;34m,\u001b[0m \u001b[0mreturn_acc\u001b[0m\u001b[0;34m=\u001b[0m\u001b[0;32mTrue\u001b[0m\u001b[0;34m,\u001b[0m \u001b[0mcuda\u001b[0m\u001b[0;34m=\u001b[0m\u001b[0;32mTrue\u001b[0m\u001b[0;34m)\u001b[0m\u001b[0;34m\u001b[0m\u001b[0;34m\u001b[0m\u001b[0m\n\u001b[0m\u001b[1;32m     11\u001b[0m             \u001b[0;32mfor\u001b[0m \u001b[0mx\u001b[0m \u001b[0;32min\u001b[0m \u001b[0mfaith_acc\u001b[0m\u001b[0;34m:\u001b[0m\u001b[0;34m\u001b[0m\u001b[0;34m\u001b[0m\u001b[0m\n\u001b[1;32m     12\u001b[0m                 \u001b[0mline\u001b[0m \u001b[0;34m=\u001b[0m \u001b[0;34m\"INcrease {:05.4f}\"\u001b[0m\u001b[0;34m.\u001b[0m\u001b[0mformat\u001b[0m\u001b[0;34m(\u001b[0m\u001b[0mfaith_acc\u001b[0m\u001b[0;34m[\u001b[0m\u001b[0mx\u001b[0m\u001b[0;34m]\u001b[0m\u001b[0;34m-\u001b[0m\u001b[0mmnist_acc\u001b[0m\u001b[0;34m[\u001b[0m\u001b[0mcount\u001b[0m\u001b[0;34m]\u001b[0m\u001b[0;34m)\u001b[0m \u001b[0;32mif\u001b[0m \u001b[0mfaith_acc\u001b[0m\u001b[0;34m[\u001b[0m\u001b[0mx\u001b[0m\u001b[0;34m]\u001b[0m \u001b[0;34m>\u001b[0m \u001b[0mmnist_acc\u001b[0m\u001b[0;34m[\u001b[0m\u001b[0mcount\u001b[0m\u001b[0;34m]\u001b[0m \u001b[0;32melse\u001b[0m \u001b[0;34m\"DEcrease {:05.4f}\"\u001b[0m\u001b[0;34m.\u001b[0m\u001b[0mformat\u001b[0m\u001b[0;34m(\u001b[0m\u001b[0mmnist_acc\u001b[0m\u001b[0;34m[\u001b[0m\u001b[0mcount\u001b[0m\u001b[0;34m]\u001b[0m\u001b[0;34m-\u001b[0m\u001b[0mfaith_acc\u001b[0m\u001b[0;34m[\u001b[0m\u001b[0mx\u001b[0m\u001b[0;34m]\u001b[0m\u001b[0;34m)\u001b[0m\u001b[0;34m\u001b[0m\u001b[0;34m\u001b[0m\u001b[0m\n",
      "\u001b[0;32m~/Documents/Github/FACT/SENN/api/mnist.py\u001b[0m in \u001b[0;36mfaith_evaluate\u001b[0;34m(model, nconcept, dataset, print_freq, return_acc, cuda)\u001b[0m\n\u001b[1;32m    523\u001b[0m             \u001b[0;32mif\u001b[0m \u001b[0mcuda\u001b[0m\u001b[0;34m:\u001b[0m\u001b[0;34m\u001b[0m\u001b[0;34m\u001b[0m\u001b[0m\n\u001b[1;32m    524\u001b[0m                 \u001b[0mbatch_x\u001b[0m\u001b[0;34m,\u001b[0m \u001b[0mbatch_t\u001b[0m \u001b[0;34m=\u001b[0m \u001b[0mbatch_x\u001b[0m\u001b[0;34m.\u001b[0m\u001b[0mcuda\u001b[0m\u001b[0;34m(\u001b[0m\u001b[0;34m)\u001b[0m\u001b[0;34m,\u001b[0m \u001b[0mbatch_t\u001b[0m\u001b[0;34m.\u001b[0m\u001b[0mcuda\u001b[0m\u001b[0;34m(\u001b[0m\u001b[0;34m)\u001b[0m\u001b[0;34m\u001b[0m\u001b[0;34m\u001b[0m\u001b[0m\n\u001b[0;32m--> 525\u001b[0;31m             \u001b[0mh_x\u001b[0m\u001b[0;34m,\u001b[0m \u001b[0m_\u001b[0m \u001b[0;34m=\u001b[0m \u001b[0mmodel\u001b[0m\u001b[0;34m.\u001b[0m\u001b[0mconceptizer\u001b[0m\u001b[0;34m(\u001b[0m\u001b[0mbatch_x\u001b[0m\u001b[0;34m)\u001b[0m\u001b[0;34m\u001b[0m\u001b[0;34m\u001b[0m\u001b[0m\n\u001b[0m\u001b[1;32m    526\u001b[0m             \u001b[0mh_x\u001b[0m\u001b[0;34m[\u001b[0m\u001b[0;34m:\u001b[0m\u001b[0;34m,\u001b[0m\u001b[0mcon\u001b[0m\u001b[0;34m,\u001b[0m\u001b[0;34m:\u001b[0m\u001b[0;34m]\u001b[0m \u001b[0;34m=\u001b[0m \u001b[0;36m0\u001b[0m\u001b[0;34m\u001b[0m\u001b[0;34m\u001b[0m\u001b[0m\n\u001b[1;32m    527\u001b[0m             \u001b[0mthetas\u001b[0m \u001b[0;34m=\u001b[0m \u001b[0mmodel\u001b[0m\u001b[0;34m.\u001b[0m\u001b[0mparametrizer\u001b[0m\u001b[0;34m(\u001b[0m\u001b[0mbatch_x\u001b[0m\u001b[0;34m)\u001b[0m\u001b[0;34m\u001b[0m\u001b[0;34m\u001b[0m\u001b[0m\n",
      "\u001b[0;31mValueError\u001b[0m: too many values to unpack (expected 2)"
     ]
    }
   ],
   "source": [
    "count = 0\n",
    "for ht in HType:\n",
    "    for concept in NConcepts:\n",
    "        for reg in RegLambda:\n",
    "            model = load_mnist(reg, ht, concept, False)          \n",
    "            strht = (\"h(x): \"+str(ht)[6:] + \",\").ljust(14, ' ')\n",
    "            strconcept = (\"nconcepts: \"+str(concept)[10:] + \",\").ljust(20, ' ')\n",
    "            strreg = (\"Lambda: \" + str(reg)[10:] + \",\").ljust(15, ' ')\n",
    "            print(\"MNIST model - %s %s %s accuracy: %0.5f\" %(strht, strconcept, strreg, mnist_acc[count]))\n",
    "            faith_acc = mnist.faith_evaluate(model, concept.value, MNIST_TEST_SET, print_freq=0, return_acc=True, cuda=True)\n",
    "            for x in faith_acc:\n",
    "                line = \"INcrease {:05.4f}\".format(faith_acc[x]-mnist_acc[count]) if faith_acc[x] > mnist_acc[count] else \"DEcrease {:05.4f}\".format(mnist_acc[count]-faith_acc[x])\n",
    "                print(\"Leaving concept %d out, giving an %s. accuracy result: %0.4f\" %(x, line, faith_acc[x]))\n",
    "            print(\"\")\n",
    "            count += 1"
   ]
  }
 ],
 "metadata": {
  "kernelspec": {
   "display_name": "Python 3",
   "language": "python",
   "name": "python3"
  },
  "language_info": {
   "codemirror_mode": {
    "name": "ipython",
    "version": 3
   },
   "file_extension": ".py",
   "mimetype": "text/x-python",
   "name": "python",
   "nbconvert_exporter": "python",
   "pygments_lexer": "ipython3",
   "version": "3.6.9"
  },
  "pycharm": {
   "stem_cell": {
    "cell_type": "raw",
    "metadata": {
     "collapsed": false
    },
    "source": []
   }
  }
 },
 "nbformat": 4,
 "nbformat_minor": 2
}
